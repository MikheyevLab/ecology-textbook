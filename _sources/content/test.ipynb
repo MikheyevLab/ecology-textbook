{
 "cells": [
  {
   "cell_type": "markdown",
   "id": "progressive-armstrong",
   "metadata": {},
   "source": [
    "# Code highlighting\n",
    "\n",
    "## Basic\n",
    "\n",
    "<pre>\n",
    "  <code class=\"prettyprint\">1 + (2 + 3) + <span style=\"background-color:red\">1</span>\n",
    "  <span style=\"background-color:yellow\">int i;</span></code>\n",
    "</pre>\n",
    "\n",
    "\n",
    "## Using tooltips and google code prettify\n",
    "\n",
    "<script src=\"https://cdn.jsdelivr.net/gh/google/code-prettify@master/loader/run_prettify.js\"></script>\n",
    "<pre>\n",
    "  <code class=\"prettyprint\">1 + (2 + 3) + <span class=\"ttooltip\">1<span class=\"ttooltiptext\" style=\"color:white\"><span class=\"nocode\">This is red</span></span></span>\n",
    "</pre>"
   ]
  }
 ],
 "metadata": {
  "jupytext": {
   "text_representation": {
    "extension": ".md",
    "format_name": "myst"
   }
  },
  "kernelspec": {
   "display_name": "r",
   "language": "r",
   "name": "ir"
  },
  "language_info": {
   "codemirror_mode": "r",
   "file_extension": ".r",
   "mimetype": "text/x-r-source",
   "name": "R",
   "pygments_lexer": "r",
   "version": "4.0.3"
  },
  "source_map": [
   10
  ]
 },
 "nbformat": 4,
 "nbformat_minor": 5
}